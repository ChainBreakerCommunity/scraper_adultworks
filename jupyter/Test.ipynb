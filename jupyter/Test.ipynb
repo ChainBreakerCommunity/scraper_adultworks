{
 "cells": [
  {
   "cell_type": "code",
   "execution_count": 12,
   "metadata": {},
   "outputs": [],
   "source": [
    "from selenium import webdriver\n",
    "from selenium.webdriver.common.by import By"
   ]
  },
  {
   "cell_type": "code",
   "execution_count": 2,
   "metadata": {},
   "outputs": [
    {
     "name": "stderr",
     "output_type": "stream",
     "text": [
      "C:\\Users\\juanc\\AppData\\Local\\Temp\\ipykernel_14692\\4222959332.py:1: DeprecationWarning: executable_path has been deprecated, please pass in a Service object\n",
      "  driver = webdriver.Chrome(executable_path=\"./chromedriver.exe\")\n"
     ]
    }
   ],
   "source": [
    "driver = webdriver.Chrome(executable_path=\"./chromedriver.exe\")"
   ]
  },
  {
   "cell_type": "code",
   "execution_count": 3,
   "metadata": {},
   "outputs": [],
   "source": [
    "url = \"https://www.adultwork.com/ViewProfile.asp?UserID=3150894&Keywords=&KeySearch=1&TargetURL=https%3A%2F%2Fwww%2Eadultwork%2Ecom%2FSearch%2Easp%3FRefreshVar%3D09%252F06%252F2022%2B04%253A35%253A08%26cbxGenderID%3D%26cboGenderID%3D0%26strSelPostCode%3D%26intMiles%3D%26question%5F7%3DAsian%26QuestionIDs%3D7%252C67%26GroupedQuestionIDs%3D12%26rdoOrderBy%3D4%26CommandID%3D1%26cboOffering%3D1&NavUserIDs=5191383x797441x1962221x998995x2577000x2684380x1960533x3975209x3150894x548291x5904544x5795682x654867x4241068x5839454x5167959x3740955x1647023x6296912x4632707x2542565x3578837x2909550x3274484x707640x4785073x3963471x1566613x6034800x3245942x4646293x2001973x1694325x2372824x5330162x805342x4204056x5276216x5276240x5647919x4371372x4345503x2721249x5444949x4362879x37x2665500x2046311x4267277x5105622\"\n",
    "driver.get(url)"
   ]
  },
  {
   "cell_type": "code",
   "execution_count": 18,
   "metadata": {},
   "outputs": [
    {
     "name": "stdout",
     "output_type": "stream",
     "text": [
      "HIGH CLASS!!Exquisite girl .genuine Selfie～Unrivaled passionate lover for a unique girlfriend experience .Perfect body ，Slim ,Flat stomach, Sweet face . personality.All pictures take in London，genuine pictures !Remember me please🤪88Grace88\n"
     ]
    }
   ],
   "source": [
    "tds = driver.find_elements(by=By.TAG_NAME, value=\"td\")\n",
    "for td in tds: \n",
    "    a = td.get_attribute(\"class\") == \"unSelectable\"\n",
    "    b = td.get_attribute(\"onselectstart\") == \"return false\"\n",
    "    c = td.get_attribute(\"unselectable\") == \"on\"\n",
    "    if (a and b and c):\n",
    "        print(td.text)\n",
    "    if td.text == \"Frequently Asked Questions...\":\n",
    "        break"
   ]
  },
  {
   "cell_type": "code",
   "execution_count": 14,
   "metadata": {},
   "outputs": [
    {
     "data": {
      "text/plain": [
       "'http://www.adultwork.com/ViewProfile.asp?UserID=2542565&Keywords=&KeySearch=1&TargetURL=http%3A%2F%2Fwww%2Eadultwork%2Ecom%2FSearch%2Easp%3FRefreshVar%3D09%252F06%252F2022%2B04%253A48%253A32%26cbxGenderID%3D%26intMiles%3D%26cboOffering%3D1%26rdoOrderBy%3D4%26CommandID%3D1%26strSelPostCode%3D%26GroupedQuestionIDs%3D12%26cboGenderID%3D0%26question%5F7%3DAsian%26QuestionIDs%3D7%252C67&NavUserIDs=5191383x797441x1962221x998995x2577000x2684380x1960533x3975209x3150894x548291x5904544x5795682x654867x4241068x5839454x5167959x3740955x1647023x6296912x4632707x2542565x3578837x2909550x3274484x707640x4785073x3963471x1566613x6034800x3245942x4646293x2001973x1694325x2372824x5330162x805342x4204056x5276216x5276240x5647919x4371372x4345503x2721249x5444949x4362879x37x2665500x2046311x4267277x5105622'"
      ]
     },
     "execution_count": 14,
     "metadata": {},
     "output_type": "execute_result"
    }
   ],
   "source": [
    "driver.current_url"
   ]
  },
  {
   "cell_type": "code",
   "execution_count": null,
   "metadata": {},
   "outputs": [],
   "source": []
  }
 ],
 "metadata": {
  "interpreter": {
   "hash": "cd24afdabf29a8125613a5847c4ddacc983f786bc2e5d6b279fd06dd6134e659"
  },
  "kernelspec": {
   "display_name": "Python 3 (ipykernel)",
   "language": "python",
   "name": "python3"
  },
  "language_info": {
   "codemirror_mode": {
    "name": "ipython",
    "version": 3
   },
   "file_extension": ".py",
   "mimetype": "text/x-python",
   "name": "python",
   "nbconvert_exporter": "python",
   "pygments_lexer": "ipython3",
   "version": "3.9.12"
  }
 },
 "nbformat": 4,
 "nbformat_minor": 4
}
